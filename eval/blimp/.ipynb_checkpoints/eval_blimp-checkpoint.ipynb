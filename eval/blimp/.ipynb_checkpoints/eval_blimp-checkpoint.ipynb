{
 "cells": [
  {
   "cell_type": "code",
   "execution_count": 1,
   "id": "ec39e216-cb54-40dd-be2f-dbac47042e93",
   "metadata": {},
   "outputs": [],
   "source": [
    "import os\n",
    "import sys\n",
    "\n",
    "from tqdm.notebook import tqdm\n",
    "import torch\n",
    "import torch.nn.functional as F\n",
    "\n",
    "import tiktoken\n",
    "import itertools\n",
    "\n",
    "import numpy as np\n",
    "import pandas as pd\n",
    "import pickle as pkl\n",
    "\n",
    "sys.path.insert(1, '../../models/')\n",
    "from model import GPT, GPTConfig\n",
    "\n",
    "device = torch.device('cuda' if torch.cuda.is_available() else \"cpu\")"
   ]
  },
  {
   "cell_type": "markdown",
   "id": "b40b8089-bd69-42aa-8e82-cc3ebe425f19",
   "metadata": {},
   "source": [
    "# preprocessing\n",
    "- process blimp data\n",
    "- load model"
   ]
  },
  {
   "cell_type": "code",
   "execution_count": 23,
   "id": "b072c01a-3052-4b18-a653-626a37571533",
   "metadata": {},
   "outputs": [],
   "source": [
    "all_dfs = []\n",
    "\n",
    "for filename in os.listdir('.'):\n",
    "    \n",
    "    if not filename.endswith('.jsonl'):\n",
    "        continue\n",
    "\n",
    "    cur_df = pd.read_json(filename, lines=True)\n",
    "    all_dfs.append(cur_df)"
   ]
  },
  {
   "cell_type": "code",
   "execution_count": 24,
   "id": "2efab342-2ccf-4a57-a08d-69abb1d217a0",
   "metadata": {},
   "outputs": [],
   "source": [
    "df = pd.concat(all_dfs).reset_index(drop=True)"
   ]
  },
  {
   "cell_type": "code",
   "execution_count": 33,
   "id": "30c91bf7-5609-4471-b317-99bb44183110",
   "metadata": {},
   "outputs": [
    {
     "name": "stdout",
     "output_type": "stream",
     "text": [
      "number of parameters: 127.97M\n"
     ]
    }
   ],
   "source": [
    "checkpoint = torch.load('../../models/out/ckpt-5-5-2.5-48-mean-0.pt', map_location=device)\n",
    "model_args = checkpoint['model_args']\n",
    "model_args['position_dir'] = '../../models/gpt2-positions-5-5'\n",
    "\n",
    "gptconf = GPTConfig(**model_args)\n",
    "model = GPT(gptconf)\n",
    "\n",
    "state_dict = checkpoint['model']\n",
    "# fix the keys of the state dictionary :(\n",
    "# honestly no idea how checkpoints sometimes get this prefix, have to debug more\n",
    "unwanted_prefix = '_orig_mod.'\n",
    "for k,v in list(state_dict.items()):\n",
    "    if k.startswith(unwanted_prefix):\n",
    "        state_dict[k[len(unwanted_prefix):]] = state_dict.pop(k)\n",
    "\n",
    "model.load_state_dict(state_dict, strict=False)\n",
    "model.eval()\n",
    "\n",
    "tokenizer = tiktoken.get_encoding('gpt2')\n",
    "pad_token = tokenizer.encode('<|endoftext|>', allowed_special=\"all\")[0]"
   ]
  },
  {
   "cell_type": "markdown",
   "id": "04043cde-e3d6-4727-872a-3a82a89c798d",
   "metadata": {},
   "source": [
    "# compute surprisals"
   ]
  },
  {
   "cell_type": "code",
   "execution_count": 178,
   "id": "4d06d7e6-031b-4d21-a0a8-634238b17850",
   "metadata": {},
   "outputs": [],
   "source": [
    "@torch.no_grad()\n",
    "def surprisal(model, tokens):\n",
    "    \"\"\"\n",
    "    compute surprisal of a batch of tokens\n",
    "    \"\"\"\n",
    "    B, L = tokens.shape\n",
    "    context = tokens[:, 0].unsqueeze(1)\n",
    "    surp = torch.zeros(B)\n",
    "    \n",
    "    for i in range(L - 1):\n",
    "        \n",
    "        logits, _, _, _, _ = model(context)\n",
    "        logits = logits[:, -1, :]\n",
    "        probs = F.softmax(logits, dim=-1)\n",
    "        \n",
    "        next_token = tokens[:, i + 1]\n",
    "        surp += -torch.log(probs[range(B), next_token])\n",
    "        \n",
    "        # append sampled index to the running sequence and continue\n",
    "        context = torch.cat((context, tokens[:, i + 1].unsqueeze(1)), dim=1)\n",
    "\n",
    "    return surp"
   ]
  },
  {
   "cell_type": "code",
   "execution_count": 182,
   "id": "83f72c0b-9256-4110-8365-27db4eed8d50",
   "metadata": {},
   "outputs": [],
   "source": [
    "def tokenize_batch(sents):\n",
    "    tokens = tokenizer.encode_batch(sents, allowed_special = 'all')\n",
    "    padded = list(zip(*itertools.zip_longest(*tokens, fillvalue=pad_token)))\n",
    "    return torch.from_numpy(np.array(padded))"
   ]
  },
  {
   "cell_type": "code",
   "execution_count": null,
   "id": "98d8d744-db31-4cc6-8e95-340f327d0ba6",
   "metadata": {},
   "outputs": [],
   "source": [
    "good_surps = []\n",
    "bad_surps = []\n",
    "\n",
    "batch_size = 48\n",
    "for i in tqdm(range(0, len(df), batch_size)):\n",
    "    batch_df = df.iloc[i:i + batch_size]\n",
    "    \n",
    "    good_surps += list(surprisal(model, tokenize_batch(batch_df['sentence_good'])))\n",
    "    bad_surps += list(surprisal(model, tokenize_batch(batch_df['sentence_bad'])))"
   ]
  },
  {
   "cell_type": "code",
   "execution_count": null,
   "id": "f8f9f891-4e09-480d-95ec-2c3bcb6e551b",
   "metadata": {},
   "outputs": [],
   "source": [
    "df['good_surps'] = good_surps\n",
    "df['bad_surps'] = bad_surps\n",
    "df['correct'] = df['good_surps'] < df['bad_surps']"
   ]
  },
  {
   "cell_type": "code",
   "execution_count": null,
   "id": "4e9baa3a-421e-4b64-86a8-8f31794e8a70",
   "metadata": {},
   "outputs": [],
   "source": [
    "df.to_csv('blimp_results.csv')"
   ]
  },
  {
   "cell_type": "markdown",
   "id": "8732f328-9183-4fa8-a2b0-b7395e198147",
   "metadata": {},
   "source": [
    "# analysis"
   ]
  },
  {
   "cell_type": "code",
   "execution_count": 2,
   "id": "62737945-9cc0-4758-b30a-1b9421d4cff7",
   "metadata": {},
   "outputs": [
    {
     "name": "stderr",
     "output_type": "stream",
     "text": [
      "/var/folders/m6/32scpxtx647171scy78mkcxr0000gn/T/ipykernel_36097/1420445605.py:1: DtypeWarning: Columns (14,15,16,18) have mixed types. Specify dtype option on import or set low_memory=False.\n",
      "  df = pd.read_csv('blimp_results.csv')\n"
     ]
    }
   ],
   "source": [
    "results = {'topo' : pd.read_csv('blimp_results.csv'), 'nontopo' : pd.read_csv('blimp_results_nontopo.csv')}"
   ]
  },
  {
   "cell_type": "code",
   "execution_count": 7,
   "id": "ceadc5fa-1e20-456f-873f-b476e270c162",
   "metadata": {},
   "outputs": [],
   "source": [
    "for key in results:\n",
    "    results[key] = results[key][['sentence_good','sentence_bad', 'field', 'linguistics_term', 'UID', 'pairID', 'good_surps', 'bad_surps', 'correct']]"
   ]
  },
  {
   "cell_type": "code",
   "execution_count": 22,
   "id": "2080c130-a519-4b12-adfc-10a039d46bc3",
   "metadata": {},
   "outputs": [
    {
     "name": "stdout",
     "output_type": "stream",
     "text": [
      "OVERALL: 0.6906268656716418\n",
      "---------\n",
      "BY CATEGORY:\n",
      "linguistics_term\n",
      "anaphor_agreement            0.786500\n",
      "argument_structure           0.647429\n",
      "binding                      0.754000\n",
      "control_raising              0.627800\n",
      "determiner_noun_agreement    0.817875\n",
      "ellipsis                     0.564500\n",
      "filler_gap_dependency        0.688000\n",
      "irregular_forms              0.872000\n",
      "island_effects               0.580750\n",
      "npi_licensing                0.705143\n",
      "quantifiers                  0.618500\n",
      "s-selection                  0.705500\n",
      "subject_verb_agreement       0.675167\n",
      "Name: correct, dtype: float64\n"
     ]
    }
   ],
   "source": [
    "print('OVERALL:', results['topo']['correct'].mean())\n",
    "print('---------')\n",
    "print('BY CATEGORY:')\n",
    "print(results['topo'].groupby('linguistics_term')['correct'].mean())"
   ]
  }
 ],
 "metadata": {
  "kernelspec": {
   "display_name": "Python 3 (ipykernel)",
   "language": "python",
   "name": "python3"
  },
  "language_info": {
   "codemirror_mode": {
    "name": "ipython",
    "version": 3
   },
   "file_extension": ".py",
   "mimetype": "text/x-python",
   "name": "python",
   "nbconvert_exporter": "python",
   "pygments_lexer": "ipython3",
   "version": "3.12.4"
  }
 },
 "nbformat": 4,
 "nbformat_minor": 5
}

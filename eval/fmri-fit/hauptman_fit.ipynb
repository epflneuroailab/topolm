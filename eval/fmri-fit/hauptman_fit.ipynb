{
 "cells": [
  {
   "cell_type": "code",
   "execution_count": 154,
   "id": "5d1003d2-ba74-46f5-8fc8-07a2a41f769f",
   "metadata": {},
   "outputs": [],
   "source": [
    "import torch\n",
    "import numpy as np\n",
    "\n",
    "import scipy\n",
    "import xarray as xr\n",
    "import pandas as pd\n",
    "import pickle as pkl\n",
    "\n",
    "import statsmodels.api as sm\n",
    "import matplotlib.pyplot as plt"
   ]
  },
  {
   "cell_type": "markdown",
   "id": "7bf763fe-a65f-4d81-8f38-1e459d1cf6b0",
   "metadata": {},
   "source": [
    "# 1. fMRI pre-processing\n",
    "\n",
    "1. we first isolate noun / verb selective vertices with $p < 0.05$ on the group level\n",
    "2. from these, we extract the top 300 noun-selective and verb-selective vertices by subject\n",
    "\n",
    "these form our ROIs"
   ]
  },
  {
   "cell_type": "markdown",
   "id": "bba91e84-6871-4efe-9af0-56fc702d4494",
   "metadata": {},
   "source": [
    "## step one: group level isolation"
   ]
  },
  {
   "cell_type": "code",
   "execution_count": 178,
   "id": "11e5c4a3-60c3-4306-a5a6-bb040c268ee3",
   "metadata": {},
   "outputs": [],
   "source": [
    "group_level = xr.open_dataset('group-level-contrast-even.nc')\n",
    "num_coords = len(group_level.t_values)"
   ]
  },
  {
   "cell_type": "code",
   "execution_count": 179,
   "id": "2af5568c-989f-4a31-b39a-c3e0c18ab986",
   "metadata": {},
   "outputs": [],
   "source": [
    "group_level = group_level.to_pandas()\n",
    "group_level = group_level.drop(group_level[group_level.p_values > 0.05].index)\n",
    "group_level = group_level.dropna()"
   ]
  },
  {
   "cell_type": "code",
   "execution_count": 180,
   "id": "4f964b6f-02c3-4b2f-87ff-e3030a762f3d",
   "metadata": {},
   "outputs": [
    {
     "data": {
      "text/plain": [
       "region\n",
       "noun    6151\n",
       "verb    2692\n",
       "Name: count, dtype: int64"
      ]
     },
     "execution_count": 180,
     "metadata": {},
     "output_type": "execute_result"
    }
   ],
   "source": [
    "group_level['region'] = group_level['t_values'].apply(lambda x: 'noun' if x < 0 else 'verb')\n",
    "group_level['region'].value_counts()"
   ]
  },
  {
   "cell_type": "code",
   "execution_count": 181,
   "id": "2820db55-52d0-4195-88f5-455938398f10",
   "metadata": {},
   "outputs": [
    {
     "data": {
      "text/html": [
       "<div>\n",
       "<style scoped>\n",
       "    .dataframe tbody tr th:only-of-type {\n",
       "        vertical-align: middle;\n",
       "    }\n",
       "\n",
       "    .dataframe tbody tr th {\n",
       "        vertical-align: top;\n",
       "    }\n",
       "\n",
       "    .dataframe thead th {\n",
       "        text-align: right;\n",
       "    }\n",
       "</style>\n",
       "<table border=\"1\" class=\"dataframe\">\n",
       "  <thead>\n",
       "    <tr style=\"text-align: right;\">\n",
       "      <th></th>\n",
       "      <th>t_values</th>\n",
       "      <th>p_values</th>\n",
       "      <th>region</th>\n",
       "    </tr>\n",
       "    <tr>\n",
       "      <th>coords</th>\n",
       "      <th></th>\n",
       "      <th></th>\n",
       "      <th></th>\n",
       "    </tr>\n",
       "  </thead>\n",
       "  <tbody>\n",
       "    <tr>\n",
       "      <th>0</th>\n",
       "      <td>-2.358720</td>\n",
       "      <td>0.028105</td>\n",
       "      <td>noun</td>\n",
       "    </tr>\n",
       "    <tr>\n",
       "      <th>5</th>\n",
       "      <td>-3.736453</td>\n",
       "      <td>0.001218</td>\n",
       "      <td>noun</td>\n",
       "    </tr>\n",
       "    <tr>\n",
       "      <th>6</th>\n",
       "      <td>-3.695950</td>\n",
       "      <td>0.001341</td>\n",
       "      <td>noun</td>\n",
       "    </tr>\n",
       "    <tr>\n",
       "      <th>9</th>\n",
       "      <td>-2.739922</td>\n",
       "      <td>0.012271</td>\n",
       "      <td>noun</td>\n",
       "    </tr>\n",
       "    <tr>\n",
       "      <th>12</th>\n",
       "      <td>-2.803860</td>\n",
       "      <td>0.010637</td>\n",
       "      <td>noun</td>\n",
       "    </tr>\n",
       "  </tbody>\n",
       "</table>\n",
       "</div>"
      ],
      "text/plain": [
       "        t_values  p_values region\n",
       "coords                           \n",
       "0      -2.358720  0.028105   noun\n",
       "5      -3.736453  0.001218   noun\n",
       "6      -3.695950  0.001341   noun\n",
       "9      -2.739922  0.012271   noun\n",
       "12     -2.803860  0.010637   noun"
      ]
     },
     "execution_count": 181,
     "metadata": {},
     "output_type": "execute_result"
    }
   ],
   "source": [
    "group_level.head()"
   ]
  },
  {
   "cell_type": "code",
   "execution_count": 182,
   "id": "d8031a3c-70a8-4236-8cb8-16d6f9bc2637",
   "metadata": {},
   "outputs": [],
   "source": [
    "noun_coords = np.array(group_level.index[group_level['region'] == 'noun'])\n",
    "verb_coords = np.array(group_level.index[group_level['region'] == 'verb'])\n",
    "\n",
    "noun_mask = np.zeros(num_coords)\n",
    "noun_mask[noun_coords] = 1\n",
    "\n",
    "verb_mask = np.zeros(num_coords)\n",
    "verb_mask[verb_coords] = 1"
   ]
  },
  {
   "cell_type": "markdown",
   "id": "7e7f4f42-8ad6-4ffd-891b-2cd61fe01fce",
   "metadata": {},
   "source": [
    "## step two: individual level extraction"
   ]
  },
  {
   "cell_type": "code",
   "execution_count": 183,
   "id": "3ad23cf6-22c1-42db-83e3-22fe9bf790bd",
   "metadata": {},
   "outputs": [],
   "source": [
    "indiv = xr.open_dataset('individual-level-contrast-even.nc')"
   ]
  },
  {
   "cell_type": "code",
   "execution_count": 184,
   "id": "6c864b3c-2f7a-4924-b783-8c0867560071",
   "metadata": {},
   "outputs": [],
   "source": [
    "# shape (num_participants, num_coords)\n",
    "noun_values = np.array(indiv.t_values) * noun_mask\n",
    "verb_values = np.array(indiv.t_values) * verb_mask"
   ]
  },
  {
   "cell_type": "code",
   "execution_count": 185,
   "id": "3e2e2294-c3fe-4a83-8b0a-cff8ac43ae02",
   "metadata": {},
   "outputs": [],
   "source": [
    "# make it (22, 576, 300) instead of (22, 300) i.e. by-trial\n",
    "# 1200 for nouns? and 300 for verbs\n",
    "noun_rois = np.argsort(noun_values, axis=1)[:, :600]\n",
    "verb_rois = np.argsort(verb_values, axis=1)[:, -600:]"
   ]
  },
  {
   "cell_type": "code",
   "execution_count": 186,
   "id": "57c20b5a-375b-4826-b724-6e6271dba862",
   "metadata": {},
   "outputs": [],
   "source": [
    "noun_mask = np.zeros((22, num_coords))\n",
    "noun_mask[np.arange(22)[:, None], noun_rois] = 1\n",
    "\n",
    "verb_mask = np.zeros((22, num_coords))\n",
    "verb_mask[np.arange(22)[:, None], verb_rois] = 1"
   ]
  },
  {
   "cell_type": "code",
   "execution_count": 187,
   "id": "ac9ba79e-9ab3-4363-b490-b40992787e61",
   "metadata": {},
   "outputs": [],
   "source": [
    "with open('noun_mask_fmri.pkl', 'wb') as f:\n",
    "    pkl.dump(noun_mask, f)\n",
    "\n",
    "with open('verb_mask_fmri.pkl', 'wb') as f:\n",
    "    pkl.dump(verb_mask, f)"
   ]
  },
  {
   "cell_type": "markdown",
   "id": "e3454ceb-6dd9-4e9c-8f33-d4a617ba483a",
   "metadata": {},
   "source": [
    "# 2. model pre-processing\n",
    "\n",
    "we apply a similar procedure for ROI identification in the model, computing the top $N$ noun / verb selective units (where $N$ is a hyperparameter)"
   ]
  },
  {
   "cell_type": "code",
   "execution_count": 198,
   "id": "126215ce-5fdc-41f8-ba44-d6767e6bd6c5",
   "metadata": {},
   "outputs": [],
   "source": [
    "N = 600 # int(0.1 * (24 * 784))\n",
    "\n",
    "# negative = noun selective, positive = verb selective\n",
    "with open('../data/contrasts/5-5-2.5-48-mean-0/elli-noun_verb.pkl', 'rb') as f:\n",
    "    t_map = -pkl.load(f)"
   ]
  },
  {
   "cell_type": "code",
   "execution_count": 199,
   "id": "79d18952-50ef-47b9-9f3d-3a0b726a4032",
   "metadata": {},
   "outputs": [],
   "source": [
    "flattened_t_map = t_map.flatten()\n",
    "noun_units = np.argsort(flattened_t_map)[:N]\n",
    "verb_units = np.argsort(flattened_t_map)[-N:]"
   ]
  },
  {
   "cell_type": "code",
   "execution_count": 200,
   "id": "a1e072a0-60dd-41d4-926d-22b43eb26f5b",
   "metadata": {},
   "outputs": [],
   "source": [
    "noun_mask = np.zeros(len(flattened_t_map))\n",
    "noun_mask[noun_units] = 1\n",
    "noun_mask = noun_mask.reshape(24, 784)\n",
    "\n",
    "verb_mask = np.zeros(len(flattened_t_map))\n",
    "verb_mask[verb_units] = 1\n",
    "verb_mask = verb_mask.reshape(24, 784)"
   ]
  },
  {
   "cell_type": "code",
   "execution_count": 201,
   "id": "44c556c9-bde4-4097-bfe4-1bda03ec71f3",
   "metadata": {},
   "outputs": [],
   "source": [
    "with open('noun_mask_model.pkl', 'wb') as f:\n",
    "    pkl.dump(noun_mask, f)\n",
    "\n",
    "with open('verb_mask_model.pkl', 'wb') as f:\n",
    "    pkl.dump(verb_mask, f)"
   ]
  },
  {
   "cell_type": "markdown",
   "id": "ef76e0cf-40f0-41db-ae8b-324e24bdf98f",
   "metadata": {},
   "source": [
    "# 3. linear fits\n",
    "\n",
    "we fit a GLM:\n",
    "\n",
    "$$\n",
    "\\text{fmri\\_t\\_values} \\sim \\beta_0 + \\beta_1 \\cdot \\text{model\\_activations} + \\epsilon\n",
    "$$\n",
    "\n",
    "where we restrict to the ROIs determined above. we enforce a one-to-one mapping of model units to fMRI vertices"
   ]
  },
  {
   "cell_type": "code",
   "execution_count": 202,
   "id": "a1137d02-940d-4f17-8079-4f6837216133",
   "metadata": {},
   "outputs": [],
   "source": [
    "noun_mask_fmri = np.load('noun_mask_fmri.pkl', allow_pickle=True)\n",
    "verb_mask_fmri = np.load('verb_mask_fmri.pkl', allow_pickle=True)\n",
    "noun_mask_model = np.load('noun_mask_model.pkl', allow_pickle=True)\n",
    "verb_mask_model = np.load('verb_mask_model.pkl', allow_pickle=True)"
   ]
  },
  {
   "cell_type": "code",
   "execution_count": 203,
   "id": "d20c0942-4b52-4b2f-8038-dab5859f6d70",
   "metadata": {},
   "outputs": [],
   "source": [
    "with open('../data/responses/5-5-2.5-48-mean-0/elli.pkl', 'rb') as f:\n",
    "    elli = pkl.load(f)"
   ]
  },
  {
   "cell_type": "code",
   "execution_count": 204,
   "id": "7b44f32d-9ecb-4676-b352-6381418519a6",
   "metadata": {},
   "outputs": [],
   "source": [
    "all_conditions = sorted(['bird_noun', 'hand_verb', 'light_verb', 'mammal_noun', 'manmade_noun', 'mouth_verb', 'natural_noun', 'sound_verb'])\n",
    "\n",
    "activations = {}\n",
    "\n",
    "activations['noun'] = np.concatenate([elli[key] for key in all_conditions if key[-4:] == 'noun'], axis=0).mean(axis = 0)\n",
    "activations['verb'] = np.concatenate([elli[key] for key in all_conditions if key[-4:] == 'verb'], axis=0).mean(axis = 0)"
   ]
  },
  {
   "cell_type": "code",
   "execution_count": 205,
   "id": "83c0b6ed-e700-4b1e-b6e0-360ca34d0469",
   "metadata": {},
   "outputs": [],
   "source": [
    "def extract(arr, mask):\n",
    "    return arr.flatten()[mask.flatten() == 1]\n",
    "\n",
    "activations['noun'] = extract(activations['noun'], noun_mask_model)\n",
    "activations['verb'] = extract(activations['verb'], verb_mask_model)"
   ]
  },
  {
   "cell_type": "code",
   "execution_count": 206,
   "id": "da005316-cd9c-49f7-b1b9-49da04aa135f",
   "metadata": {},
   "outputs": [],
   "source": [
    "indiv = xr.open_dataset('individual-level-contrast-even.nc')"
   ]
  },
  {
   "cell_type": "code",
   "execution_count": 207,
   "id": "7722e4a1-deb1-4566-b07b-efe88dbe0be9",
   "metadata": {},
   "outputs": [],
   "source": [
    "t_values = {}\n",
    "\n",
    "t_values['noun'] = np.array(indiv.t_values)[noun_mask_fmri.astype(bool)].reshape(22, 600)\n",
    "t_values['verb'] = np.array(indiv.t_values)[verb_mask_fmri.astype(bool)].reshape(22, 600)"
   ]
  },
  {
   "cell_type": "code",
   "execution_count": 220,
   "id": "524f9f1e-ae30-428d-9f42-9fc13366f200",
   "metadata": {},
   "outputs": [],
   "source": [
    "x = activations['noun']\n",
    "# x = sm.add_constant(x)\n",
    "\n",
    "y = t_values['noun'][1]\n",
    "\n",
    "model = sm.GLM(y, x)\n",
    "results = model.fit()"
   ]
  },
  {
   "cell_type": "code",
   "execution_count": 225,
   "id": "b3c3b84e-285e-48cb-b317-89db59441428",
   "metadata": {},
   "outputs": [
    {
     "data": {
      "image/png": "[encoded data removed]",
      "text/plain": [
       "<Figure size 640x480 with 1 Axes>"
      ]
     },
     "metadata": {},
     "output_type": "display_data"
    }
   ],
   "source": [
    "plt.scatter(x, y)\n",
    "plt.xlabel(\"activations (model)\")\n",
    "plt.ylabel(\"t-value (fMRI)\")\n",
    "plt.title('Nouns')\n",
    "plt.show()"
   ]
  },
  {
   "cell_type": "code",
   "execution_count": 228,
   "id": "c0e83b46-92f9-48eb-9574-3f6d11f8e51e",
   "metadata": {},
   "outputs": [
    {
     "data": {
      "text/html": [
       "<table class=\"simpletable\">\n",
       "<caption>Generalized Linear Model Regression Results</caption>\n",
       "<tr>\n",
       "  <th>Dep. Variable:</th>           <td>y</td>        <th>  No. Observations:  </th>  <td>   600</td> \n",
       "</tr>\n",
       "<tr>\n",
       "  <th>Model:</th>                  <td>GLM</td>       <th>  Df Residuals:      </th>  <td>   599</td> \n",
       "</tr>\n",
       "<tr>\n",
       "  <th>Model Family:</th>        <td>Gaussian</td>     <th>  Df Model:          </th>  <td>     0</td> \n",
       "</tr>\n",
       "<tr>\n",
       "  <th>Link Function:</th>       <td>Identity</td>     <th>  Scale:             </th> <td>  4.1993</td>\n",
       "</tr>\n",
       "<tr>\n",
       "  <th>Method:</th>                <td>IRLS</td>       <th>  Log-Likelihood:    </th> <td> -1281.3</td>\n",
       "</tr>\n",
       "<tr>\n",
       "  <th>Date:</th>            <td>Thu, 29 Aug 2024</td> <th>  Deviance:          </th> <td>  2515.4</td>\n",
       "</tr>\n",
       "<tr>\n",
       "  <th>Time:</th>                <td>20:02:04</td>     <th>  Pearson chi2:      </th> <td>2.52e+03</td>\n",
       "</tr>\n",
       "<tr>\n",
       "  <th>No. Iterations:</th>          <td>3</td>        <th>  Pseudo R-squ. (CS):</th>  <td>-1.556</td> \n",
       "</tr>\n",
       "<tr>\n",
       "  <th>Covariance Type:</th>     <td>nonrobust</td>    <th>                     </th>     <td> </td>   \n",
       "</tr>\n",
       "</table>\n",
       "<table class=\"simpletable\">\n",
       "<tr>\n",
       "   <td></td>     <th>coef</th>     <th>std err</th>      <th>z</th>      <th>P>|z|</th>  <th>[0.025</th>    <th>0.975]</th>  \n",
       "</tr>\n",
       "<tr>\n",
       "  <th>x1</th> <td>   -0.0001</td> <td>    0.115</td> <td>   -0.001</td> <td> 0.999</td> <td>   -0.225</td> <td>    0.224</td>\n",
       "</tr>\n",
       "</table>"
      ],
      "text/latex": [
       "\\begin{center}\n",
       "\\begin{tabular}{lclc}\n",
       "\\toprule\n",
       "\\textbf{Dep. Variable:}   &        y         & \\textbf{  No. Observations:  } &      600    \\\\\n",
       "\\textbf{Model:}           &       GLM        & \\textbf{  Df Residuals:      } &      599    \\\\\n",
       "\\textbf{Model Family:}    &     Gaussian     & \\textbf{  Df Model:          } &        0    \\\\\n",
       "\\textbf{Link Function:}   &     Identity     & \\textbf{  Scale:             } &    4.1993   \\\\\n",
       "\\textbf{Method:}          &       IRLS       & \\textbf{  Log-Likelihood:    } &   -1281.3   \\\\\n",
       "\\textbf{Date:}            & Thu, 29 Aug 2024 & \\textbf{  Deviance:          } &    2515.4   \\\\\n",
       "\\textbf{Time:}            &     20:02:04     & \\textbf{  Pearson chi2:      } &  2.52e+03   \\\\\n",
       "\\textbf{No. Iterations:}  &        3         & \\textbf{  Pseudo R-squ. (CS):} &   -1.556    \\\\\n",
       "\\textbf{Covariance Type:} &    nonrobust     & \\textbf{                     } &             \\\\\n",
       "\\bottomrule\n",
       "\\end{tabular}\n",
       "\\begin{tabular}{lcccccc}\n",
       "            & \\textbf{coef} & \\textbf{std err} & \\textbf{z} & \\textbf{P$> |$z$|$} & \\textbf{[0.025} & \\textbf{0.975]}  \\\\\n",
       "\\midrule\n",
       "\\textbf{x1} &      -0.0001  &        0.115     &    -0.001  &         0.999        &       -0.225    &        0.224     \\\\\n",
       "\\bottomrule\n",
       "\\end{tabular}\n",
       "%\\caption{Generalized Linear Model Regression Results}\n",
       "\\end{center}"
      ],
      "text/plain": [
       "<class 'statsmodels.iolib.summary.Summary'>\n",
       "\"\"\"\n",
       "                 Generalized Linear Model Regression Results                  \n",
       "==============================================================================\n",
       "Dep. Variable:                      y   No. Observations:                  600\n",
       "Model:                            GLM   Df Residuals:                      599\n",
       "Model Family:                Gaussian   Df Model:                            0\n",
       "Link Function:               Identity   Scale:                          4.1993\n",
       "Method:                          IRLS   Log-Likelihood:                -1281.3\n",
       "Date:                Thu, 29 Aug 2024   Deviance:                       2515.4\n",
       "Time:                        20:02:04   Pearson chi2:                 2.52e+03\n",
       "No. Iterations:                     3   Pseudo R-squ. (CS):             -1.556\n",
       "Covariance Type:            nonrobust                                         \n",
       "==============================================================================\n",
       "                 coef    std err          z      P>|z|      [0.025      0.975]\n",
       "------------------------------------------------------------------------------\n",
       "x1            -0.0001      0.115     -0.001      0.999      -0.225       0.224\n",
       "==============================================================================\n",
       "\"\"\""
      ]
     },
     "execution_count": 228,
     "metadata": {},
     "output_type": "execute_result"
    }
   ],
   "source": [
    "results.summary()"
   ]
  }
 ],
 "metadata": {
  "kernelspec": {
   "display_name": "Python 3 (ipykernel)",
   "language": "python",
   "name": "python3"
  },
  "language_info": {
   "codemirror_mode": {
    "name": "ipython",
    "version": 3
   },
   "file_extension": ".py",
   "mimetype": "text/x-python",
   "name": "python",
   "nbconvert_exporter": "python",
   "pygments_lexer": "ipython3",
   "version": "3.12.4"
  }
 },
 "nbformat": 4,
 "nbformat_minor": 5
}

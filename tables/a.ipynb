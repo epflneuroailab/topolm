{
 "cells": [
  {
   "cell_type": "code",
   "execution_count": 3,
   "metadata": {},
   "outputs": [],
   "source": [
    "import pandas as pd\n",
    "a = pd.read_csv('table_downstream_reports.csv', sep='\\t')"
   ]
  },
  {
   "cell_type": "code",
   "execution_count": 4,
   "metadata": {},
   "outputs": [
    {
     "data": {
      "text/html": [
       "<div>\n",
       "<style scoped>\n",
       "    .dataframe tbody tr th:only-of-type {\n",
       "        vertical-align: middle;\n",
       "    }\n",
       "\n",
       "    .dataframe tbody tr th {\n",
       "        vertical-align: top;\n",
       "    }\n",
       "\n",
       "    .dataframe thead th {\n",
       "        text-align: right;\n",
       "    }\n",
       "</style>\n",
       "<table border=\"1\" class=\"dataframe\">\n",
       "  <thead>\n",
       "    <tr style=\"text-align: right;\">\n",
       "      <th></th>\n",
       "      <th>name</th>\n",
       "      <th>backend</th>\n",
       "      <th>checkpoint</th>\n",
       "      <th>loss</th>\n",
       "      <th>avg_loss</th>\n",
       "      <th>final_epoch</th>\n",
       "      <th>step_time</th>\n",
       "      <th>cola_matthews_correlation</th>\n",
       "      <th>mnli_accuracy</th>\n",
       "      <th>mnliextra_accuracy</th>\n",
       "      <th>...</th>\n",
       "      <th>Eval_gradient_clipping</th>\n",
       "      <th>Eval_limited_decay_keys</th>\n",
       "      <th>Eval_scheduler</th>\n",
       "      <th>Eval_optim_mod</th>\n",
       "      <th>Eval_epochs</th>\n",
       "      <th>Eval_warmup_steps</th>\n",
       "      <th>Eval_cooldown_steps</th>\n",
       "      <th>Eval_steps</th>\n",
       "      <th>Eval_testing</th>\n",
       "      <th>Eval_arch_modifications</th>\n",
       "    </tr>\n",
       "  </thead>\n",
       "  <tbody>\n",
       "    <tr>\n",
       "      <th>0</th>\n",
       "      <td>amp_b4096_c5_o3_final</td>\n",
       "      <td>torch-default</td>\n",
       "      <td>latest</td>\n",
       "      <td>NaN</td>\n",
       "      <td>NaN</td>\n",
       "      <td>NaN</td>\n",
       "      <td>NaN</td>\n",
       "      <td>0.301826</td>\n",
       "      <td>0.790015</td>\n",
       "      <td>0.793328</td>\n",
       "      <td>...</td>\n",
       "      <td>NaN</td>\n",
       "      <td>['bias', 'LayerNorm.bias', 'LayerNorm.weight']</td>\n",
       "      <td>cosine-decay</td>\n",
       "      <td>{'name': 'none'}</td>\n",
       "      <td>5</td>\n",
       "      <td>267</td>\n",
       "      <td>0</td>\n",
       "      <td>1795</td>\n",
       "      <td>{'batch_size': 128}</td>\n",
       "      <td>{'classification_head': {'pooler': 'zero_index...</td>\n",
       "    </tr>\n",
       "    <tr>\n",
       "      <th>1</th>\n",
       "      <td>amp_b4096_c5_o3_final</td>\n",
       "      <td>torch-default</td>\n",
       "      <td>latest</td>\n",
       "      <td>NaN</td>\n",
       "      <td>NaN</td>\n",
       "      <td>NaN</td>\n",
       "      <td>NaN</td>\n",
       "      <td>0.412190</td>\n",
       "      <td>0.790525</td>\n",
       "      <td>0.792819</td>\n",
       "      <td>...</td>\n",
       "      <td>NaN</td>\n",
       "      <td>['bias', 'LayerNorm.bias', 'LayerNorm.weight']</td>\n",
       "      <td>cosine-decay</td>\n",
       "      <td>{'name': 'none'}</td>\n",
       "      <td>5</td>\n",
       "      <td>267</td>\n",
       "      <td>0</td>\n",
       "      <td>1795</td>\n",
       "      <td>{'batch_size': 128}</td>\n",
       "      <td>{'classification_head': {'pooler': 'zero_index...</td>\n",
       "    </tr>\n",
       "  </tbody>\n",
       "</table>\n",
       "<p>2 rows × 49 columns</p>\n",
       "</div>"
      ],
      "text/plain": [
       "                    name        backend checkpoint  loss  avg_loss  \\\n",
       "0  amp_b4096_c5_o3_final  torch-default     latest   NaN       NaN   \n",
       "1  amp_b4096_c5_o3_final  torch-default     latest   NaN       NaN   \n",
       "\n",
       "   final_epoch  step_time  cola_matthews_correlation  mnli_accuracy  \\\n",
       "0          NaN        NaN                   0.301826       0.790015   \n",
       "1          NaN        NaN                   0.412190       0.790525   \n",
       "\n",
       "   mnliextra_accuracy  ...  Eval_gradient_clipping  \\\n",
       "0            0.793328  ...                     NaN   \n",
       "1            0.792819  ...                     NaN   \n",
       "\n",
       "                          Eval_limited_decay_keys  Eval_scheduler  \\\n",
       "0  ['bias', 'LayerNorm.bias', 'LayerNorm.weight']    cosine-decay   \n",
       "1  ['bias', 'LayerNorm.bias', 'LayerNorm.weight']    cosine-decay   \n",
       "\n",
       "     Eval_optim_mod  Eval_epochs  Eval_warmup_steps  Eval_cooldown_steps  \\\n",
       "0  {'name': 'none'}            5                267                    0   \n",
       "1  {'name': 'none'}            5                267                    0   \n",
       "\n",
       "   Eval_steps         Eval_testing  \\\n",
       "0        1795  {'batch_size': 128}   \n",
       "1        1795  {'batch_size': 128}   \n",
       "\n",
       "                             Eval_arch_modifications  \n",
       "0  {'classification_head': {'pooler': 'zero_index...  \n",
       "1  {'classification_head': {'pooler': 'zero_index...  \n",
       "\n",
       "[2 rows x 49 columns]"
      ]
     },
     "execution_count": 4,
     "metadata": {},
     "output_type": "execute_result"
    }
   ],
   "source": [
    "a.head()"
   ]
  },
  {
   "cell_type": "code",
   "execution_count": 5,
   "metadata": {},
   "outputs": [
    {
     "data": {
      "text/plain": [
       "Index(['name', 'backend', 'checkpoint', 'loss', 'avg_loss', 'final_epoch',\n",
       "       'step_time', 'cola_matthews_correlation', 'mnli_accuracy',\n",
       "       'mnliextra_accuracy', 'mrpc_accuracy', 'mrpc_f1', 'qnli_accuracy',\n",
       "       'qqp_accuracy', 'qqp_f1', 'rte_accuracy', 'sst2_accuracy',\n",
       "       'stsb_pearson', 'stsb_spearmanr', 'GPU', 'numGPUs', 'VRAM', 'RAM',\n",
       "       'total_time', 'batch_size', 'lr', 'warmup', 'seed', 'base_dir',\n",
       "       'impl_path', 'local_folder', 'Eval_optim', 'Eval_tasks',\n",
       "       'Eval_evaluation_set', 'Eval_checkpoint', 'Eval_path',\n",
       "       'Eval_max_seq_length', 'Eval_batch_size', 'Eval_batch_size_ramp',\n",
       "       'Eval_gradient_clipping', 'Eval_limited_decay_keys', 'Eval_scheduler',\n",
       "       'Eval_optim_mod', 'Eval_epochs', 'Eval_warmup_steps',\n",
       "       'Eval_cooldown_steps', 'Eval_steps', 'Eval_testing',\n",
       "       'Eval_arch_modifications'],\n",
       "      dtype='object')"
      ]
     },
     "execution_count": 5,
     "metadata": {},
     "output_type": "execute_result"
    }
   ],
   "source": [
    "a.columns"
   ]
  },
  {
   "cell_type": "code",
   "execution_count": 6,
   "metadata": {},
   "outputs": [
    {
     "data": {
      "text/plain": [
       "0.3018259282175072"
      ]
     },
     "execution_count": 6,
     "metadata": {},
     "output_type": "execute_result"
    }
   ],
   "source": [
    "a.iloc[0]['cola_matthews_correlation']"
   ]
  },
  {
   "cell_type": "code",
   "execution_count": 8,
   "metadata": {},
   "outputs": [
    {
     "data": {
      "text/plain": [
       "0.8529953917050691"
      ]
     },
     "execution_count": 8,
     "metadata": {},
     "output_type": "execute_result"
    }
   ],
   "source": [
    "a.iloc[0]['qqp_f1']"
   ]
  },
  {
   "cell_type": "code",
   "execution_count": 11,
   "metadata": {},
   "outputs": [
    {
     "data": {
      "text/html": [
       "<div>\n",
       "<style scoped>\n",
       "    .dataframe tbody tr th:only-of-type {\n",
       "        vertical-align: middle;\n",
       "    }\n",
       "\n",
       "    .dataframe tbody tr th {\n",
       "        vertical-align: top;\n",
       "    }\n",
       "\n",
       "    .dataframe thead th {\n",
       "        text-align: right;\n",
       "    }\n",
       "</style>\n",
       "<table border=\"1\" class=\"dataframe\">\n",
       "  <thead>\n",
       "    <tr style=\"text-align: right;\">\n",
       "      <th></th>\n",
       "      <th>mnli_accuracy</th>\n",
       "      <th>mnliextra_accuracy</th>\n",
       "      <th>sst2_accuracy</th>\n",
       "      <th>stsb_spearmanr</th>\n",
       "      <th>rte_accuracy</th>\n",
       "      <th>qnli_accuracy</th>\n",
       "      <th>qqp_f1</th>\n",
       "      <th>mrpc_f1</th>\n",
       "      <th>cola_matthews_correlation</th>\n",
       "    </tr>\n",
       "  </thead>\n",
       "  <tbody>\n",
       "    <tr>\n",
       "      <th>0</th>\n",
       "      <td>0.790015</td>\n",
       "      <td>0.793328</td>\n",
       "      <td>0.900229</td>\n",
       "      <td>0.782170</td>\n",
       "      <td>0.548736</td>\n",
       "      <td>0.870950</td>\n",
       "      <td>0.852995</td>\n",
       "      <td>0.834646</td>\n",
       "      <td>0.301826</td>\n",
       "    </tr>\n",
       "    <tr>\n",
       "      <th>1</th>\n",
       "      <td>0.790525</td>\n",
       "      <td>0.792819</td>\n",
       "      <td>0.893349</td>\n",
       "      <td>0.753843</td>\n",
       "      <td>0.501805</td>\n",
       "      <td>0.863079</td>\n",
       "      <td>0.857058</td>\n",
       "      <td>0.824281</td>\n",
       "      <td>0.412190</td>\n",
       "    </tr>\n",
       "  </tbody>\n",
       "</table>\n",
       "</div>"
      ],
      "text/plain": [
       "   mnli_accuracy  mnliextra_accuracy  sst2_accuracy  stsb_spearmanr  \\\n",
       "0       0.790015            0.793328       0.900229        0.782170   \n",
       "1       0.790525            0.792819       0.893349        0.753843   \n",
       "\n",
       "   rte_accuracy  qnli_accuracy    qqp_f1   mrpc_f1  cola_matthews_correlation  \n",
       "0      0.548736       0.870950  0.852995  0.834646                   0.301826  \n",
       "1      0.501805       0.863079  0.857058  0.824281                   0.412190  "
      ]
     },
     "execution_count": 11,
     "metadata": {},
     "output_type": "execute_result"
    }
   ],
   "source": [
    "df = a[['mnli_accuracy','mnliextra_accuracy','sst2_accuracy', 'stsb_spearmanr','rte_accuracy','qnli_accuracy','qqp_f1', 'mrpc_f1', 'cola_matthews_correlation']]\n",
    "df"
   ]
  },
  {
   "cell_type": "code",
   "execution_count": 12,
   "metadata": {},
   "outputs": [
    {
     "name": "stderr",
     "output_type": "stream",
     "text": [
      "/var/folders/nk/s848cbn94mz1xm_s4dd6shnm0000gn/T/ipykernel_90322/1672829710.py:1: SettingWithCopyWarning: \n",
      "A value is trying to be set on a copy of a slice from a DataFrame.\n",
      "Try using .loc[row_indexer,col_indexer] = value instead\n",
      "\n",
      "See the caveats in the documentation: https://pandas.pydata.org/pandas-docs/stable/user_guide/indexing.html#returning-a-view-versus-a-copy\n",
      "  df['glue_score'] = df.mean(axis=1)\n"
     ]
    },
    {
     "data": {
      "text/html": [
       "<div>\n",
       "<style scoped>\n",
       "    .dataframe tbody tr th:only-of-type {\n",
       "        vertical-align: middle;\n",
       "    }\n",
       "\n",
       "    .dataframe tbody tr th {\n",
       "        vertical-align: top;\n",
       "    }\n",
       "\n",
       "    .dataframe thead th {\n",
       "        text-align: right;\n",
       "    }\n",
       "</style>\n",
       "<table border=\"1\" class=\"dataframe\">\n",
       "  <thead>\n",
       "    <tr style=\"text-align: right;\">\n",
       "      <th></th>\n",
       "      <th>mnli_accuracy</th>\n",
       "      <th>mnliextra_accuracy</th>\n",
       "      <th>sst2_accuracy</th>\n",
       "      <th>stsb_spearmanr</th>\n",
       "      <th>rte_accuracy</th>\n",
       "      <th>qnli_accuracy</th>\n",
       "      <th>qqp_f1</th>\n",
       "      <th>mrpc_f1</th>\n",
       "      <th>cola_matthews_correlation</th>\n",
       "      <th>glue_score</th>\n",
       "    </tr>\n",
       "  </thead>\n",
       "  <tbody>\n",
       "    <tr>\n",
       "      <th>0</th>\n",
       "      <td>0.790015</td>\n",
       "      <td>0.793328</td>\n",
       "      <td>0.900229</td>\n",
       "      <td>0.782170</td>\n",
       "      <td>0.548736</td>\n",
       "      <td>0.870950</td>\n",
       "      <td>0.852995</td>\n",
       "      <td>0.834646</td>\n",
       "      <td>0.301826</td>\n",
       "      <td>0.741655</td>\n",
       "    </tr>\n",
       "    <tr>\n",
       "      <th>1</th>\n",
       "      <td>0.790525</td>\n",
       "      <td>0.792819</td>\n",
       "      <td>0.893349</td>\n",
       "      <td>0.753843</td>\n",
       "      <td>0.501805</td>\n",
       "      <td>0.863079</td>\n",
       "      <td>0.857058</td>\n",
       "      <td>0.824281</td>\n",
       "      <td>0.412190</td>\n",
       "      <td>0.743217</td>\n",
       "    </tr>\n",
       "  </tbody>\n",
       "</table>\n",
       "</div>"
      ],
      "text/plain": [
       "   mnli_accuracy  mnliextra_accuracy  sst2_accuracy  stsb_spearmanr  \\\n",
       "0       0.790015            0.793328       0.900229        0.782170   \n",
       "1       0.790525            0.792819       0.893349        0.753843   \n",
       "\n",
       "   rte_accuracy  qnli_accuracy    qqp_f1   mrpc_f1  cola_matthews_correlation  \\\n",
       "0      0.548736       0.870950  0.852995  0.834646                   0.301826   \n",
       "1      0.501805       0.863079  0.857058  0.824281                   0.412190   \n",
       "\n",
       "   glue_score  \n",
       "0    0.741655  \n",
       "1    0.743217  "
      ]
     },
     "execution_count": 12,
     "metadata": {},
     "output_type": "execute_result"
    }
   ],
   "source": [
    "df['glue_score'] = df.mean(axis=1)\n",
    "df"
   ]
  },
  {
   "cell_type": "code",
   "execution_count": null,
   "metadata": {},
   "outputs": [],
   "source": []
  }
 ],
 "metadata": {
  "kernelspec": {
   "display_name": "openai",
   "language": "python",
   "name": "python3"
  },
  "language_info": {
   "codemirror_mode": {
    "name": "ipython",
    "version": 3
   },
   "file_extension": ".py",
   "mimetype": "text/x-python",
   "name": "python",
   "nbconvert_exporter": "python",
   "pygments_lexer": "ipython3",
   "version": "3.8.16"
  },
  "orig_nbformat": 4
 },
 "nbformat": 4,
 "nbformat_minor": 2
}

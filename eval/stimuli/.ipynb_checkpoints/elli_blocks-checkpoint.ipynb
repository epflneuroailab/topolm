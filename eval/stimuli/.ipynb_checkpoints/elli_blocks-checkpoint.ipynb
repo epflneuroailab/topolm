{
 "cells": [
  {
   "cell_type": "code",
   "execution_count": 112,
   "id": "b98fa2a4-60af-4cc7-b008-7a1d0c1bafcf",
   "metadata": {},
   "outputs": [],
   "source": [
    "### cleanup / reformat elli block stimuli\n",
    "import pandas as pd"
   ]
  },
  {
   "cell_type": "code",
   "execution_count": 113,
   "id": "0b8f5bc5-6da1-4e4e-b7a4-56d00e66247a",
   "metadata": {},
   "outputs": [],
   "source": [
    "df = pd.read_csv('logfile_with_baseline.csv')\n",
    "df = df[df['Cat'] != 'baseline']"
   ]
  },
  {
   "cell_type": "code",
   "execution_count": 114,
   "id": "8c401f40-5dc0-4de0-9d6d-6cc69390ee41",
   "metadata": {},
   "outputs": [],
   "source": [
    "df['Run'] = df['Run'].apply(lambda x: 'odd' if x % 2 == 1 else 'even')\n",
    "df['Cat'] = df['Cat'].str.split('_').str[0]"
   ]
  },
  {
   "cell_type": "code",
   "execution_count": 115,
   "id": "00fccb0c-971c-446f-b1ad-f67e9c755dc5",
   "metadata": {},
   "outputs": [],
   "source": [
    "df = df[['Run','Cat','Subsem','Word1','Word2']]\n",
    "df.columns = ['run', 'class', 'category', 'word1', 'word2']"
   ]
  },
  {
   "cell_type": "code",
   "execution_count": 116,
   "id": "ac7132d3-90f0-49ad-8b54-bd5e6bf64fdb",
   "metadata": {},
   "outputs": [],
   "source": [
    "articles = df['class'].apply(lambda x: 'the' if x == 'noun' else 'to')\n",
    "df['pair'] = articles + ' ' + df['word1'] + ', ' + articles + ' ' + df['word2']\n",
    "df = df.drop_duplicates()"
   ]
  },
  {
   "cell_type": "code",
   "execution_count": 117,
   "id": "f95f9315-f9cb-496c-9ef2-c3720221bd4a",
   "metadata": {},
   "outputs": [],
   "source": [
    "df = df.reset_index(drop=True)\n",
    "df['block'] = (df.index // 4)\n",
    "df = df[['run', 'block', 'class', 'category', 'pair']]"
   ]
  },
  {
   "cell_type": "code",
   "execution_count": 118,
   "id": "11b6b8c0-1fee-4a42-9e54-cdad28dbbafe",
   "metadata": {},
   "outputs": [
    {
     "data": {
      "text/html": [
       "<div>\n",
       "<style scoped>\n",
       "    .dataframe tbody tr th:only-of-type {\n",
       "        vertical-align: middle;\n",
       "    }\n",
       "\n",
       "    .dataframe tbody tr th {\n",
       "        vertical-align: top;\n",
       "    }\n",
       "\n",
       "    .dataframe thead th {\n",
       "        text-align: right;\n",
       "    }\n",
       "</style>\n",
       "<table border=\"1\" class=\"dataframe\">\n",
       "  <thead>\n",
       "    <tr style=\"text-align: right;\">\n",
       "      <th></th>\n",
       "      <th>run</th>\n",
       "      <th>block</th>\n",
       "      <th>class</th>\n",
       "      <th>category</th>\n",
       "      <th>pair</th>\n",
       "    </tr>\n",
       "  </thead>\n",
       "  <tbody>\n",
       "    <tr>\n",
       "      <th>0</th>\n",
       "      <td>odd</td>\n",
       "      <td>0</td>\n",
       "      <td>noun</td>\n",
       "      <td>manmade</td>\n",
       "      <td>the garage, the rink</td>\n",
       "    </tr>\n",
       "    <tr>\n",
       "      <th>1</th>\n",
       "      <td>odd</td>\n",
       "      <td>0</td>\n",
       "      <td>noun</td>\n",
       "      <td>manmade</td>\n",
       "      <td>the booth, the shack</td>\n",
       "    </tr>\n",
       "    <tr>\n",
       "      <th>2</th>\n",
       "      <td>odd</td>\n",
       "      <td>0</td>\n",
       "      <td>noun</td>\n",
       "      <td>manmade</td>\n",
       "      <td>the dam, the lounge</td>\n",
       "    </tr>\n",
       "    <tr>\n",
       "      <th>3</th>\n",
       "      <td>odd</td>\n",
       "      <td>0</td>\n",
       "      <td>noun</td>\n",
       "      <td>manmade</td>\n",
       "      <td>the moat, the shed</td>\n",
       "    </tr>\n",
       "    <tr>\n",
       "      <th>4</th>\n",
       "      <td>odd</td>\n",
       "      <td>1</td>\n",
       "      <td>noun</td>\n",
       "      <td>natural</td>\n",
       "      <td>the gulf, the reef</td>\n",
       "    </tr>\n",
       "  </tbody>\n",
       "</table>\n",
       "</div>"
      ],
      "text/plain": [
       "   run  block class category                  pair\n",
       "0  odd      0  noun  manmade  the garage, the rink\n",
       "1  odd      0  noun  manmade  the booth, the shack\n",
       "2  odd      0  noun  manmade   the dam, the lounge\n",
       "3  odd      0  noun  manmade    the moat, the shed\n",
       "4  odd      1  noun  natural    the gulf, the reef"
      ]
     },
     "execution_count": 118,
     "metadata": {},
     "output_type": "execute_result"
    }
   ],
   "source": [
    "df.head()"
   ]
  },
  {
   "cell_type": "code",
   "execution_count": 119,
   "id": "a22f0190-bde2-41ec-9f74-cdf60e3c298f",
   "metadata": {},
   "outputs": [],
   "source": [
    "df.to_csv('elli_pairs.csv', index=False)"
   ]
  },
  {
   "cell_type": "code",
   "execution_count": 120,
   "id": "d7931df7-112d-444d-b8ad-41ec7e3af5dd",
   "metadata": {},
   "outputs": [],
   "source": [
    "df = df.groupby(['run', 'block', 'class', 'category'], as_index=False).agg({'pair': ', '.join})\n",
    "df = df.sort_values(by='block').reset_index(drop=True)"
   ]
  },
  {
   "cell_type": "code",
   "execution_count": 122,
   "id": "646e4afc-9719-45bf-aad9-a92c7454712a",
   "metadata": {},
   "outputs": [
    {
     "data": {
      "text/html": [
       "<div>\n",
       "<style scoped>\n",
       "    .dataframe tbody tr th:only-of-type {\n",
       "        vertical-align: middle;\n",
       "    }\n",
       "\n",
       "    .dataframe tbody tr th {\n",
       "        vertical-align: top;\n",
       "    }\n",
       "\n",
       "    .dataframe thead th {\n",
       "        text-align: right;\n",
       "    }\n",
       "</style>\n",
       "<table border=\"1\" class=\"dataframe\">\n",
       "  <thead>\n",
       "    <tr style=\"text-align: right;\">\n",
       "      <th></th>\n",
       "      <th>run</th>\n",
       "      <th>block</th>\n",
       "      <th>class</th>\n",
       "      <th>category</th>\n",
       "      <th>pair</th>\n",
       "    </tr>\n",
       "  </thead>\n",
       "  <tbody>\n",
       "    <tr>\n",
       "      <th>0</th>\n",
       "      <td>odd</td>\n",
       "      <td>0</td>\n",
       "      <td>noun</td>\n",
       "      <td>manmade</td>\n",
       "      <td>the garage, the rink, the booth, the shack, th...</td>\n",
       "    </tr>\n",
       "    <tr>\n",
       "      <th>1</th>\n",
       "      <td>odd</td>\n",
       "      <td>1</td>\n",
       "      <td>noun</td>\n",
       "      <td>natural</td>\n",
       "      <td>the gulf, the reef, the marsh, the brook, the ...</td>\n",
       "    </tr>\n",
       "    <tr>\n",
       "      <th>2</th>\n",
       "      <td>odd</td>\n",
       "      <td>2</td>\n",
       "      <td>verb</td>\n",
       "      <td>mouth</td>\n",
       "      <td>to slurp, to lick, to consume, to guzzle, to p...</td>\n",
       "    </tr>\n",
       "    <tr>\n",
       "      <th>3</th>\n",
       "      <td>odd</td>\n",
       "      <td>3</td>\n",
       "      <td>noun</td>\n",
       "      <td>bird</td>\n",
       "      <td>the hawk, the sparrow, the crane, the duck, th...</td>\n",
       "    </tr>\n",
       "    <tr>\n",
       "      <th>4</th>\n",
       "      <td>odd</td>\n",
       "      <td>4</td>\n",
       "      <td>verb</td>\n",
       "      <td>hand</td>\n",
       "      <td>to clutch, to fondle, to clobber, to whack, to...</td>\n",
       "    </tr>\n",
       "  </tbody>\n",
       "</table>\n",
       "</div>"
      ],
      "text/plain": [
       "   run  block class category  \\\n",
       "0  odd      0  noun  manmade   \n",
       "1  odd      1  noun  natural   \n",
       "2  odd      2  verb    mouth   \n",
       "3  odd      3  noun     bird   \n",
       "4  odd      4  verb     hand   \n",
       "\n",
       "                                                pair  \n",
       "0  the garage, the rink, the booth, the shack, th...  \n",
       "1  the gulf, the reef, the marsh, the brook, the ...  \n",
       "2  to slurp, to lick, to consume, to guzzle, to p...  \n",
       "3  the hawk, the sparrow, the crane, the duck, th...  \n",
       "4  to clutch, to fondle, to clobber, to whack, to...  "
      ]
     },
     "execution_count": 122,
     "metadata": {},
     "output_type": "execute_result"
    }
   ],
   "source": [
    "df.head()"
   ]
  },
  {
   "cell_type": "code",
   "execution_count": 123,
   "id": "e7ca099a-8b57-43e2-964d-955d7f93af51",
   "metadata": {},
   "outputs": [],
   "source": [
    "df.to_csv('elli_blocks.csv', index=False)"
   ]
  }
 ],
 "metadata": {
  "kernelspec": {
   "display_name": "Python 3 (ipykernel)",
   "language": "python",
   "name": "python3"
  },
  "language_info": {
   "codemirror_mode": {
    "name": "ipython",
    "version": 3
   },
   "file_extension": ".py",
   "mimetype": "text/x-python",
   "name": "python",
   "nbconvert_exporter": "python",
   "pygments_lexer": "ipython3",
   "version": "3.12.4"
  }
 },
 "nbformat": 4,
 "nbformat_minor": 5
}

{
 "cells": [
  {
   "cell_type": "code",
   "execution_count": 1,
   "id": "d7bba3a9-2534-4d34-9c89-b829f4990400",
   "metadata": {},
   "outputs": [],
   "source": [
    "import scipy\n",
    "import numpy as np\n",
    "import pandas as pd\n",
    "import xarray as xr\n",
    "import pickle as pkl\n",
    "from itertools import product\n",
    "from tqdm.notebook import tqdm"
   ]
  },
  {
   "cell_type": "code",
   "execution_count": 2,
   "id": "640d4028-b54a-4306-bc1d-dec86d4ff5fd",
   "metadata": {},
   "outputs": [],
   "source": [
    "import seaborn as sns\n",
    "import matplotlib.pyplot as plt"
   ]
  },
  {
   "cell_type": "code",
   "execution_count": 20,
   "id": "b7ba0b29-14bc-40a6-9b13-ce8f96eca775",
   "metadata": {},
   "outputs": [],
   "source": [
    "with open('data/contrasts/5-5-2.5-48-mean-0/moseley/concrete-concrete.pkl', 'rb') as f:\n",
    "    data = pkl.load(f)\n",
    "\n",
    "for key in data:\n",
    "    if key != 'raw':\n",
    "        data[key] = data[key].reshape(24, 28, 28)"
   ]
  },
  {
   "cell_type": "code",
   "execution_count": 21,
   "id": "e3411c03-7032-4ab3-8639-c3eb3f6dad24",
   "metadata": {
    "scrolled": true
   },
   "outputs": [],
   "source": [
    "x = xr.Dataset(\n",
    "    {\n",
    "        key: ((\"layer\", \"x\", \"y\"), value)  # Names of dimensions can be modified as needed\n",
    "        for key, value in data.items() if key != \"raw\"\n",
    "    },\n",
    "    coords={\n",
    "        \"layer\": np.arange(24),  # Assuming you have 24 samples\n",
    "        \"x\": np.arange(28),    # First spatial dimension\n",
    "        \"y\": np.arange(28)     # Second spatial dimension\n",
    "    }\n",
    ")"
   ]
  },
  {
   "cell_type": "code",
   "execution_count": 22,
   "id": "38629f65-d067-420c-b299-b859f16edad3",
   "metadata": {},
   "outputs": [
    {
     "ename": "ValueError",
     "evalue": "cannot reshape array of size 1505280 into shape (2,24,288,28,28)",
     "output_type": "error",
     "traceback": [
      "\u001b[0;31m---------------------------------------------------------------------------\u001b[0m",
      "\u001b[0;31mValueError\u001b[0m                                Traceback (most recent call last)",
      "Cell \u001b[0;32mIn[22], line 2\u001b[0m\n\u001b[1;32m      1\u001b[0m raw_data \u001b[38;5;241m=\u001b[39m np\u001b[38;5;241m.\u001b[39mstack(data[\u001b[38;5;124m\"\u001b[39m\u001b[38;5;124mraw\u001b[39m\u001b[38;5;124m\"\u001b[39m], axis\u001b[38;5;241m=\u001b[39m\u001b[38;5;241m0\u001b[39m)  \u001b[38;5;66;03m# Shape becomes (2, 24, 288, 784)\u001b[39;00m\n\u001b[0;32m----> 2\u001b[0m raw_data_reshaped \u001b[38;5;241m=\u001b[39m \u001b[43mraw_data\u001b[49m\u001b[38;5;241;43m.\u001b[39;49m\u001b[43mreshape\u001b[49m\u001b[43m(\u001b[49m\u001b[38;5;241;43m2\u001b[39;49m\u001b[43m,\u001b[49m\u001b[43m \u001b[49m\u001b[38;5;241;43m24\u001b[39;49m\u001b[43m,\u001b[49m\u001b[43m \u001b[49m\u001b[38;5;241;43m288\u001b[39;49m\u001b[43m,\u001b[49m\u001b[43m \u001b[49m\u001b[38;5;241;43m28\u001b[39;49m\u001b[43m,\u001b[49m\u001b[43m \u001b[49m\u001b[38;5;241;43m28\u001b[39;49m\u001b[43m)\u001b[49m  \u001b[38;5;66;03m# Reshape (2, 24, 288, 28, 28)\u001b[39;00m\n\u001b[1;32m      3\u001b[0m x[\u001b[38;5;124m\"\u001b[39m\u001b[38;5;124mraw\u001b[39m\u001b[38;5;124m\"\u001b[39m] \u001b[38;5;241m=\u001b[39m ((\u001b[38;5;124m\"\u001b[39m\u001b[38;5;124mcondition\u001b[39m\u001b[38;5;124m\"\u001b[39m, \u001b[38;5;124m\"\u001b[39m\u001b[38;5;124mlayer\u001b[39m\u001b[38;5;124m\"\u001b[39m, \u001b[38;5;124m\"\u001b[39m\u001b[38;5;124mtrial\u001b[39m\u001b[38;5;124m\"\u001b[39m, \u001b[38;5;124m\"\u001b[39m\u001b[38;5;124mx\u001b[39m\u001b[38;5;124m\"\u001b[39m, \u001b[38;5;124m\"\u001b[39m\u001b[38;5;124my\u001b[39m\u001b[38;5;124m\"\u001b[39m), raw_data_reshaped)\n\u001b[1;32m      4\u001b[0m x \u001b[38;5;241m=\u001b[39m x\u001b[38;5;241m.\u001b[39massign_coords({\u001b[38;5;124m\"\u001b[39m\u001b[38;5;124mcondition\u001b[39m\u001b[38;5;124m\"\u001b[39m: [\u001b[38;5;124m\"\u001b[39m\u001b[38;5;124mnoun\u001b[39m\u001b[38;5;124m\"\u001b[39m, \u001b[38;5;124m\"\u001b[39m\u001b[38;5;124mverb\u001b[39m\u001b[38;5;124m\"\u001b[39m]})\n",
      "\u001b[0;31mValueError\u001b[0m: cannot reshape array of size 1505280 into shape (2,24,288,28,28)"
     ]
    }
   ],
   "source": [
    "n_trials = data['raw'][0].shape[1]\n",
    "\n",
    "raw_data = np.stack(data['raw'], axis=0)  # Shape becomes (2, 24, 288, 784)\n",
    "raw_data_reshaped = raw_data.reshape(2, 24, 288, 28, 28)  # Reshape (2, 24, 288, 28, 28)\n",
    "x['raw'] = (('condition', 'layer', 'trial', 'x', 'y'), raw_data_reshaped)\n",
    "x = x.assign_coords({'condition': ['noun', 'verb']})"
   ]
  },
  {
   "cell_type": "code",
   "execution_count": 16,
   "id": "05499fdd-d796-4507-986c-106e505460e4",
   "metadata": {},
   "outputs": [],
   "source": [
    "x.to_netcdf('data/permtest/nontopo/moseley_concrete_concrete.nc')"
   ]
  },
  {
   "cell_type": "code",
   "execution_count": 4,
   "id": "70b5fd93-93aa-499a-8f30-53eac3bd8c50",
   "metadata": {},
   "outputs": [],
   "source": [
    "class NeuronSmoothing:\n",
    "    def __init__(self, fwhm_mm, resolution_mm):\n",
    "        self.fwhm_mm = fwhm_mm\n",
    "        self.resolution_mm = resolution_mm\n",
    "\n",
    "    def __call__(self, positions=None, activations=None):\n",
    "\n",
    "        def _get_grid_coord(x, y):\n",
    "            xmin, xmax = np.floor(np.min(x)), np.ceil(np.max(x))\n",
    "            ymin, ymax = np.floor(np.min(y)), np.ceil(np.max(y))\n",
    "            grids = np.array(np.meshgrid(np.arange(xmin, xmax + 1, self.resolution_mm),\n",
    "                                         np.arange(ymin, ymax + 1, self.resolution_mm)))\n",
    "            gridx = grids[0].flatten().reshape(-1, 1)\n",
    "            gridy = grids[1].flatten().reshape(-1, 1)\n",
    "            return gridx, gridy\n",
    "\n",
    "        # Get voxel coordinates\n",
    "        tissue_x = positions[:, 0][:, np.newaxis]\n",
    "        tissue_y = positions[:, 1][:, np.newaxis]\n",
    "        gridx, gridy = _get_grid_coord(tissue_x, tissue_y)\n",
    "\n",
    "        # compute sigma from fwmh\n",
    "        sigma = self.fwhm_mm / np.sqrt(8. * np.log(2))\n",
    "\n",
    "        # define gaussian kernel\n",
    "        d_square = (tissue_x - gridx.T) ** 2 + (tissue_y - gridy.T) ** 2\n",
    "        gaussian_filter = 1. / (2 * np.pi * sigma ** 2) * np.exp(- d_square / (2 * sigma ** 2))\n",
    "\n",
    "        features_smoothed = np.dot(activations, gaussian_filter)\n",
    "        \n",
    "        return gridx, gridy, features_smoothed\n",
    "\n",
    "fwhm_mm = 2.0\n",
    "resolution_mm = 1\n",
    "smoothing = NeuronSmoothing(fwhm_mm=fwhm_mm, resolution_mm=resolution_mm)"
   ]
  },
  {
   "cell_type": "code",
   "execution_count": 5,
   "id": "f7e36bb2-2d70-4e6c-9158-d3182c1380a5",
   "metadata": {},
   "outputs": [],
   "source": [
    "def compute_selectivity(raw_activations):\n",
    "    \n",
    "    t_values_matrix = np.zeros((24, 784))\n",
    "    p_values_matrix = np.zeros((24, 784))\n",
    "    \n",
    "    coordinates = np.array(list(product(np.arange(28), repeat = 2)))\n",
    "    \n",
    "    for idx in range(len(raw_activations[0])):\n",
    "        activations = [raw_activations[0][idx], raw_activations[1][idx]]\n",
    "        for i in range(2):\n",
    "            gridx, gridy, activations[i] = smoothing(coordinates, activations[i])\n",
    "    \n",
    "        t_values_matrix[idx], p_values_matrix[idx] = scipy.stats.ttest_ind(activations[0], activations[1], axis=0, equal_var=False)\n",
    "    \n",
    "    adjusted_p_values = scipy.stats.false_discovery_control(p_values_matrix.flatten())\n",
    "    adjusted_p_values = adjusted_p_values.reshape((24, activations[0].shape[1]))\n",
    "    selectivity = t_values_matrix * (adjusted_p_values < 0.05)\n",
    "    \n",
    "    return selectivity, t_values_matrix, adjusted_p_values"
   ]
  },
  {
   "cell_type": "code",
   "execution_count": 6,
   "id": "8d722f6a-93af-4779-87e8-820a9a08f3a6",
   "metadata": {},
   "outputs": [],
   "source": [
    "# function to get neighbors of a given index\n",
    "def get_neighbors(center_idx, grid_size = 28):\n",
    "    positions = np.array(list(product(np.arange(grid_size), repeat = 2)))\n",
    "    \n",
    "    center_pos = positions[center_idx]\n",
    "    deltas = np.array([[-1, -1], [-1, 0], [-1, 1],\n",
    "                       [ 0, -1],          [ 0, 1],\n",
    "                       [ 1, -1], [ 1, 0], [ 1, 1]])\n",
    "\n",
    "    neighbor_positions = center_pos + deltas\n",
    "    valid_neighbors = (neighbor_positions[:, 0] >= 0) & (neighbor_positions[:, 0] < grid_size) & \\\n",
    "                      (neighbor_positions[:, 1] >= 0) & (neighbor_positions[:, 1] < grid_size)\n",
    "\n",
    "    neighbor_positions = neighbor_positions[valid_neighbors]\n",
    "\n",
    "    neighbors = np.flatnonzero(\n",
    "        (positions[:, None] == neighbor_positions).all(-1).any(-1)\n",
    "    )\n",
    "\n",
    "    return set(neighbors)\n",
    "\n",
    "# Clustering algorithm\n",
    "def grow_cluster(seed_vertex, t_map, threshold=1.0, grid_size=28, flip = False):\n",
    "    if flip:\n",
    "        t_map = -t_map\n",
    "    \n",
    "    positions = np.array(list(product(np.arange(grid_size), repeat = 2)))\n",
    "    \n",
    "    cluster = set(seed_vertex)\n",
    "    candidates = get_neighbors(seed_vertex, grid_size=grid_size)\n",
    "\n",
    "    while candidates:\n",
    "        # get the candidate vertex with the highest t-value\n",
    "        best_candidate = max(candidates, key=lambda v: t_map[v])\n",
    "        \n",
    "        # stop if the best candidate is below the threshold\n",
    "        if t_map[best_candidate] < threshold:\n",
    "            break\n",
    "\n",
    "        # add the best candidate to the cluster\n",
    "        cluster.add(best_candidate)\n",
    "\n",
    "        # add new neighbors of the best candidate to the candidate list\n",
    "        new_neighbors = get_neighbors(best_candidate, grid_size)\n",
    "        candidates.update([v for v in new_neighbors if v not in cluster])\n",
    "        candidates.remove(best_candidate)\n",
    "\n",
    "    return cluster"
   ]
  },
  {
   "cell_type": "code",
   "execution_count": 7,
   "id": "ebb75b2c-6fe1-4e1c-9740-b441cb962ecd",
   "metadata": {},
   "outputs": [],
   "source": [
    "def mean_cluster_size(t_map, threshold = 1.0):\n",
    "\n",
    "    sizes = []\n",
    "    t_map_copy = t_map.copy()\n",
    "\n",
    "    iter = 0\n",
    "    \n",
    "    while iter < 2:\n",
    "\n",
    "        seed_vertex = np.unravel_index(np.argmax(t_map_copy), t_map_copy.shape)\n",
    "        \n",
    "        if abs(t_map_copy[seed_vertex]) < threshold:\n",
    "            iter += 1\n",
    "\n",
    "        if iter > 1:\n",
    "            break\n",
    "        \n",
    "        cluster = grow_cluster(seed_vertex, t_map_copy)\n",
    "        sizes.append(len(cluster))\n",
    "        t_map_copy[list(cluster)] = 0\n",
    "\n",
    "    return np.array(sizes).mean()"
   ]
  },
  {
   "cell_type": "code",
   "execution_count": 8,
   "id": "fa3a168b-a392-4ffc-8d69-952b67534088",
   "metadata": {},
   "outputs": [],
   "source": [
    "def mean_cluster_size_all_layers(t_map, n_layers = 24):\n",
    "    sizes = []\n",
    "    \n",
    "    for idx in range(n_layers):\n",
    "        sizes.append(mean_cluster_size(t_map[idx]))\n",
    "\n",
    "    return np.array(sizes)"
   ]
  },
  {
   "cell_type": "markdown",
   "id": "92e03d96-55b0-45be-890a-ebe54000d195",
   "metadata": {},
   "source": [
    "1. compute_selectivity returns s_map of shape (24, 288, 784)\n",
    "2. compute mean_cluster_size(s_map)\n",
    "3. for _ in n_iters\n",
    "    1. shuffle activations\n",
    "    2. compute selectivity on activations\n",
    "    3. compute mean_cluster_size"
   ]
  },
  {
   "cell_type": "code",
   "execution_count": 9,
   "id": "f025a44b-d238-463f-ad16-2d6400817754",
   "metadata": {},
   "outputs": [],
   "source": [
    "def shuffle_activations(act):\n",
    "    \n",
    "    shuffled = [np.empty_like(act[0]), np.empty_like(act[1])]\n",
    "    \n",
    "    for i in range(act[0].shape[0]):\n",
    "        perm = np.random.permutation(act[0].shape[2])\n",
    "        shuffled[0][i] = act[0][i][:, perm]\n",
    "        shuffled[1][i] = act[1][i][:, perm]\n",
    "\n",
    "    return shuffled"
   ]
  },
  {
   "cell_type": "code",
   "execution_count": 10,
   "id": "207b681a-15a5-4b82-b7cc-272295a0a06d",
   "metadata": {},
   "outputs": [],
   "source": [
    "def perm_test(raw_activations, n_layers = 24, n_iters = 1000):\n",
    "    grid_size = int(np.sqrt(raw_activations[0].shape[0]))\n",
    "    \n",
    "    s_map, _, _ = compute_selectivity(raw_activations)\n",
    "    true_areas = mean_cluster_size_all_layers(s_map)\n",
    "    \n",
    "    n_success = np.zeros(n_layers)    \n",
    "    for _ in range(n_iters):\n",
    "                \n",
    "        # idx = np.random.rand(*raw_activations[0].shape).argsort(axis = -1)\n",
    "        \n",
    "        shuffled = shuffle_activations(raw_activations)        \n",
    "        shuffled_s_map, _, _ = compute_selectivity(shuffled)\n",
    "        shuffled_areas = mean_cluster_size_all_layers(shuffled_s_map)\n",
    "        \n",
    "        n_success += (shuffled_areas > true_areas).astype(int)\n",
    "\n",
    "    return n_success / n_iters"
   ]
  },
  {
   "cell_type": "code",
   "execution_count": 11,
   "id": "1546a3e9-0e12-4d2c-bf13-fb4a484a14fc",
   "metadata": {},
   "outputs": [
    {
     "name": "stdout",
     "output_type": "stream",
     "text": [
      "[0.15 0.39 0.14 0.83 0.26 0.88 0.99 0.67 0.37 0.47 0.77 0.48 0.42 0.08\n",
      " 0.49 0.73 0.03 0.   0.   0.   0.01 0.02 0.51 0.2 ]\n"
     ]
    }
   ],
   "source": [
    "results = perm_test(data['raw'], n_iters = 100)\n",
    "print(results)"
   ]
  }
 ],
 "metadata": {
  "kernelspec": {
   "display_name": "Python 3 (ipykernel)",
   "language": "python",
   "name": "python3"
  },
  "language_info": {
   "codemirror_mode": {
    "name": "ipython",
    "version": 3
   },
   "file_extension": ".py",
   "mimetype": "text/x-python",
   "name": "python",
   "nbconvert_exporter": "python",
   "pygments_lexer": "ipython3",
   "version": "3.12.4"
  }
 },
 "nbformat": 4,
 "nbformat_minor": 5
}
